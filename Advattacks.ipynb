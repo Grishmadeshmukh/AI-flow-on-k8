{
  "cells": [
    {
      "cell_type": "code",
      "execution_count": null,
      "metadata": {},
      "outputs": [
        {
          "name": "stdout",
          "output_type": "stream",
          "text": [
            "Defaulting to user installation because normal site-packages is not writeable\n",
            "Requirement already satisfied: torch in /Users/grishmadeshmukh/Library/Python/3.9/lib/python/site-packages (2.7.0)\n",
            "Requirement already satisfied: torchvision in /Users/grishmadeshmukh/Library/Python/3.9/lib/python/site-packages (0.22.0)\n",
            "Requirement already satisfied: torchaudio in /Users/grishmadeshmukh/Library/Python/3.9/lib/python/site-packages (2.7.0)\n",
            "Requirement already satisfied: torchinfo in /Users/grishmadeshmukh/Library/Python/3.9/lib/python/site-packages (1.8.0)\n",
            "Requirement already satisfied: pandas in /Users/grishmadeshmukh/Library/Python/3.9/lib/python/site-packages (2.2.3)\n",
            "Collecting matplotlib\n",
            "  Downloading matplotlib-3.9.4-cp39-cp39-macosx_11_0_arm64.whl (7.8 MB)\n",
            "\u001b[2K     \u001b[90m━━━━━━━━━━━━━━━━━━━━━━━━━━━━━━━━━━━━━━━━\u001b[0m \u001b[32m7.8/7.8 MB\u001b[0m \u001b[31m31.3 MB/s\u001b[0m eta \u001b[36m0:00:00\u001b[0m00:01\u001b[0m00:01\u001b[0m\n",
            "\u001b[?25hRequirement already satisfied: scikit-learn in /Users/grishmadeshmukh/Library/Python/3.9/lib/python/site-packages (1.6.1)\n",
            "Requirement already satisfied: jinja2 in /Users/grishmadeshmukh/Library/Python/3.9/lib/python/site-packages (from torch) (3.1.2)\n",
            "Requirement already satisfied: filelock in /Users/grishmadeshmukh/Library/Python/3.9/lib/python/site-packages (from torch) (3.18.0)\n",
            "Requirement already satisfied: typing-extensions>=4.10.0 in /Users/grishmadeshmukh/Library/Python/3.9/lib/python/site-packages (from torch) (4.13.2)\n",
            "Requirement already satisfied: fsspec in /Users/grishmadeshmukh/Library/Python/3.9/lib/python/site-packages (from torch) (2025.3.2)\n",
            "Requirement already satisfied: networkx in /Users/grishmadeshmukh/Library/Python/3.9/lib/python/site-packages (from torch) (3.2.1)\n",
            "Requirement already satisfied: sympy>=1.13.3 in /Users/grishmadeshmukh/Library/Python/3.9/lib/python/site-packages (from torch) (1.14.0)\n",
            "Requirement already satisfied: numpy in /Users/grishmadeshmukh/Library/Python/3.9/lib/python/site-packages (from torchvision) (2.0.2)\n",
            "Requirement already satisfied: pillow!=8.3.*,>=5.3.0 in /Users/grishmadeshmukh/Library/Python/3.9/lib/python/site-packages (from torchvision) (11.2.1)\n",
            "Requirement already satisfied: tzdata>=2022.7 in /Users/grishmadeshmukh/Library/Python/3.9/lib/python/site-packages (from pandas) (2025.2)\n",
            "Requirement already satisfied: pytz>=2020.1 in /Users/grishmadeshmukh/Library/Python/3.9/lib/python/site-packages (from pandas) (2025.2)\n",
            "Requirement already satisfied: python-dateutil>=2.8.2 in /Users/grishmadeshmukh/Library/Python/3.9/lib/python/site-packages (from pandas) (2.8.2)\n",
            "Requirement already satisfied: pyparsing>=2.3.1 in /Users/grishmadeshmukh/Library/Python/3.9/lib/python/site-packages (from matplotlib) (3.0.9)\n",
            "Requirement already satisfied: packaging>=20.0 in /Users/grishmadeshmukh/Library/Python/3.9/lib/python/site-packages (from matplotlib) (21.3)\n",
            "Collecting fonttools>=4.22.0\n",
            "  Downloading fonttools-4.57.0-cp39-cp39-macosx_10_9_universal2.whl (2.8 MB)\n",
            "\u001b[2K     \u001b[90m━━━━━━━━━━━━━━━━━━━━━━━━━━━━━━━━━━━━━━━━\u001b[0m \u001b[32m2.8/2.8 MB\u001b[0m \u001b[31m39.6 MB/s\u001b[0m eta \u001b[36m0:00:00\u001b[0ma \u001b[36m0:00:01\u001b[0m\n",
            "\u001b[?25hCollecting kiwisolver>=1.3.1\n",
            "  Downloading kiwisolver-1.4.7-cp39-cp39-macosx_11_0_arm64.whl (64 kB)\n",
            "\u001b[2K     \u001b[90m━━━━━━━━━━━━━━━━━━━━━━━━━━━━━━━━━━━━━━━━\u001b[0m \u001b[32m64.3/64.3 kB\u001b[0m \u001b[31m2.7 MB/s\u001b[0m eta \u001b[36m0:00:00\u001b[0m\n",
            "\u001b[?25hCollecting contourpy>=1.0.1\n",
            "  Downloading contourpy-1.3.0-cp39-cp39-macosx_11_0_arm64.whl (249 kB)\n",
            "\u001b[2K     \u001b[90m━━━━━━━━━━━━━━━━━━━━━━━━━━━━━━━━━━━━━━\u001b[0m \u001b[32m249.3/249.3 kB\u001b[0m \u001b[31m20.3 MB/s\u001b[0m eta \u001b[36m0:00:00\u001b[0m\n",
            "\u001b[?25hCollecting importlib-resources>=3.2.0\n",
            "  Downloading importlib_resources-6.5.2-py3-none-any.whl (37 kB)\n",
            "Collecting cycler>=0.10\n",
            "  Using cached cycler-0.12.1-py3-none-any.whl (8.3 kB)\n",
            "Requirement already satisfied: scipy>=1.6.0 in /Users/grishmadeshmukh/Library/Python/3.9/lib/python/site-packages (from scikit-learn) (1.13.1)\n",
            "Requirement already satisfied: threadpoolctl>=3.1.0 in /Users/grishmadeshmukh/Library/Python/3.9/lib/python/site-packages (from scikit-learn) (3.6.0)\n",
            "Requirement already satisfied: joblib>=1.2.0 in /Users/grishmadeshmukh/Library/Python/3.9/lib/python/site-packages (from scikit-learn) (1.4.2)\n",
            "Requirement already satisfied: zipp>=3.1.0 in /Users/grishmadeshmukh/Library/Python/3.9/lib/python/site-packages (from importlib-resources>=3.2.0->matplotlib) (3.11.0)\n",
            "Requirement already satisfied: six>=1.5 in /Library/Developer/CommandLineTools/Library/Frameworks/Python3.framework/Versions/3.9/lib/python3.9/site-packages (from python-dateutil>=2.8.2->pandas) (1.15.0)\n",
            "Requirement already satisfied: mpmath<1.4,>=1.1.0 in /Users/grishmadeshmukh/Library/Python/3.9/lib/python/site-packages (from sympy>=1.13.3->torch) (1.3.0)\n",
            "Requirement already satisfied: MarkupSafe>=2.0 in /Users/grishmadeshmukh/Library/Python/3.9/lib/python/site-packages (from jinja2->torch) (2.1.1)\n",
            "Installing collected packages: kiwisolver, importlib-resources, fonttools, cycler, contourpy, matplotlib\n",
            "Successfully installed contourpy-1.3.0 cycler-0.12.1 fonttools-4.57.0 importlib-resources-6.5.2 kiwisolver-1.4.7 matplotlib-3.9.4\n",
            "\n",
            "\u001b[1m[\u001b[0m\u001b[34;49mnotice\u001b[0m\u001b[1;39;49m]\u001b[0m\u001b[39;49m A new release of pip available: \u001b[0m\u001b[31;49m22.3.1\u001b[0m\u001b[39;49m -> \u001b[0m\u001b[32;49m25.1\u001b[0m\n",
            "\u001b[1m[\u001b[0m\u001b[34;49mnotice\u001b[0m\u001b[1;39;49m]\u001b[0m\u001b[39;49m To update, run: \u001b[0m\u001b[32;49m/Library/Developer/CommandLineTools/usr/bin/python3 -m pip install --upgrade pip\u001b[0m\n",
            "Note: you may need to restart the kernel to use updated packages.\n"
          ]
        }
      ],
      "source": [
        "pip install torch torchvision torchaudio torchinfo pandas matplotlib scikit-learn"
      ]
    },
    {
      "cell_type": "code",
      "execution_count": 15,
      "metadata": {
        "id": "IIZmIOOfcTzL"
      },
      "outputs": [],
      "source": [
        "import torch\n",
        "import torch.nn as nn\n",
        "import torch.optim as optim\n",
        "import torchvision\n",
        "import torchvision.transforms as transforms\n",
        "from torch.utils.data import TensorDataset, DataLoader\n",
        "\n",
        "from sklearn.metrics import classification_report\n",
        "import torchinfo\n",
        "import torch.nn.functional as F\n",
        "from torch.profiler import profile, ProfilerActivity, record_function\n",
        "import numpy as np, pandas as pd\n",
        "import matplotlib.pyplot as plt\n",
        "import torch.nn.functional as F"
      ]
    },
    {
      "cell_type": "code",
      "execution_count": 16,
      "metadata": {
        "id": "9leVgZfvcWgc"
      },
      "outputs": [
        {
          "name": "stderr",
          "output_type": "stream",
          "text": [
            "100.0%\n",
            "100.0%\n",
            "100.0%\n",
            "100.0%\n"
          ]
        }
      ],
      "source": [
        "# Load MNIST\n",
        "transform = transforms.Compose([transforms.ToTensor()])\n",
        "trainset = torchvision.datasets.MNIST(root='./data', train=True, download=True, transform=transform)\n",
        "testset = torchvision.datasets.MNIST(root='./data', train=False, download=True, transform=transform)\n",
        "trainloader = torch.utils.data.DataLoader(trainset, batch_size=64, shuffle=True)\n",
        "testloader = torch.utils.data.DataLoader(testset, batch_size=64, shuffle=False)"
      ]
    },
    {
      "cell_type": "code",
      "execution_count": null,
      "metadata": {
        "id": "G_jcllPncWeN"
      },
      "outputs": [],
      "source": [
        "# Model\n",
        "class SimpleCNN(nn.Module):\n",
        "    def __init__(self):\n",
        "        super(SimpleCNN, self).__init__()\n",
        "        self.conv1 = nn.Conv2d(1, 32, 3, 1)\n",
        "        self.conv2 = nn.Conv2d(32, 64, 3, 1)\n",
        "        self.pool = nn.MaxPool2d(2)\n",
        "        self.fc1 = nn.Linear(64 * 12 * 12, 128)\n",
        "        self.fc2 = nn.Linear(128, 10)\n",
        "\n",
        "    def forward(self, x):\n",
        "        x = torch.relu(self.conv1(x))\n",
        "        x = torch.relu(self.conv2(x))\n",
        "        x = self.pool(x)\n",
        "        x = torch.flatten(x, 1)\n",
        "        x = torch.relu(self.fc1(x))\n",
        "        x = self.fc2(x)\n",
        "        return x\n",
        "\n",
        "device = torch.device(\"cuda\" if torch.cuda.is_available() else \"cpu\")\n",
        "criterion = nn.CrossEntropyLoss()\n",
        "\n",
        "# Attack Functions\n",
        "\n",
        "def fgsm_attack(data, epsilon, data_grad):\n",
        "    perturbed_data = data + epsilon * data_grad.sign()\n",
        "    perturbed_data = torch.clamp(perturbed_data, 0, 1)\n",
        "    return perturbed_data\n",
        "\n",
        "def pgd_attack(model, data, target, epsilon, alpha=0.01, iters=40):\n",
        "    perturbed_data = data.clone().detach().to(device)\n",
        "    perturbed_data.requires_grad = True\n",
        "\n",
        "    for _ in range(iters):\n",
        "        output = model(perturbed_data)\n",
        "        loss = criterion(output, target)\n",
        "        model.zero_grad()\n",
        "        loss.backward()\n",
        "        grad = perturbed_data.grad.data\n",
        "        perturbed_data = perturbed_data + alpha * grad.sign()\n",
        "\n",
        "        # Clamp perturbation to epsilon ball\n",
        "        perturbation = torch.clamp(perturbed_data - data, min=-epsilon, max=epsilon)\n",
        "        perturbed_data = torch.clamp(data + perturbation, 0, 1).detach_()\n",
        "        perturbed_data.requires_grad = True\n",
        "\n",
        "    return perturbed_data\n"
      ]
    },
    {
      "cell_type": "code",
      "execution_count": null,
      "metadata": {
        "id": "msZ9MVhDcWb7"
      },
      "outputs": [],
      "source": [
        "# Training\n",
        "def train(model, device, train_loader, optimizer, epoch, adversarial=False, attack_method=\"fgsm\", epsilon=0.3):\n",
        "    model.train()\n",
        "    for batch_idx, (data, target) in enumerate(train_loader):\n",
        "        data, target = data.to(device), target.to(device)\n",
        "\n",
        "        if adversarial:\n",
        "            data.requires_grad = True\n",
        "            if attack_method == \"fgsm\":\n",
        "                output = model(data)\n",
        "                loss = criterion(output, target)\n",
        "                model.zero_grad()\n",
        "                loss.backward()\n",
        "                data_grad = data.grad.data\n",
        "                data = fgsm_attack(data, epsilon, data_grad)\n",
        "\n",
        "            elif attack_method == \"pgd\":\n",
        "                data = pgd_attack(model, data, target, epsilon)\n",
        "\n",
        "        output = model(data)\n",
        "        loss = criterion(output, target)\n",
        "        optimizer.zero_grad()\n",
        "        loss.backward()\n",
        "        optimizer.step()"
      ]
    },
    {
      "cell_type": "code",
      "execution_count": null,
      "metadata": {
        "id": "XUJKuMxvcWZi"
      },
      "outputs": [],
      "source": [
        "# Testing\n",
        "def test(model, device, test_loader, adversarial=False, attack_method=\"fgsm\", epsilon=0.3, report=False):\n",
        "    model.eval()\n",
        "    correct = 0\n",
        "    all_preds = []\n",
        "    all_targets = []\n",
        "    for data, target in test_loader:\n",
        "        data, target = data.to(device), target.to(device)\n",
        "\n",
        "        if adversarial:\n",
        "            if attack_method == \"fgsm\":\n",
        "                data.requires_grad = True\n",
        "                output = model(data)\n",
        "                loss = criterion(output, target)\n",
        "                model.zero_grad()\n",
        "                loss.backward()\n",
        "                data_grad = data.grad.data\n",
        "                data = fgsm_attack(data, epsilon, data_grad)\n",
        "\n",
        "            elif attack_method == \"pgd\":\n",
        "                data = pgd_attack(model, data, target, epsilon)\n",
        "\n",
        "        output = model(data)\n",
        "        pred = output.argmax(dim=1, keepdim=True)\n",
        "        correct += pred.eq(target.view_as(pred)).sum().item()\n",
        "        all_preds.extend(pred.cpu().numpy())\n",
        "        all_targets.extend(target.cpu().numpy())\n",
        "\n",
        "    accuracy = 100. * correct / len(test_loader.dataset)\n",
        "\n",
        "    if report:\n",
        "        print(\"\\nClassification Report:\\n\")\n",
        "        print(classification_report(all_targets, all_preds, digits=4))\n",
        "\n",
        "    return accuracy"
      ]
    },
    {
      "cell_type": "code",
      "execution_count": 23,
      "metadata": {
        "colab": {
          "base_uri": "https://localhost:8080/"
        },
        "id": "cKjVpGnecWXA",
        "outputId": "41796dff-1a6c-48de-ddac-1bac51e08815"
      },
      "outputs": [
        {
          "name": "stdout",
          "output_type": "stream",
          "text": [
            "\n",
            "Training normally...\n",
            "\n",
            "Testing on clean data:\n",
            "\n",
            "Classification Report:\n",
            "\n",
            "              precision    recall  f1-score   support\n",
            "\n",
            "           0     0.9949    0.9867    0.9908       980\n",
            "           1     0.9912    0.9965    0.9938      1135\n",
            "           2     0.9894    0.9913    0.9903      1032\n",
            "           3     0.9775    0.9891    0.9833      1010\n",
            "           4     0.9898    0.9878    0.9888       982\n",
            "           5     0.9790    0.9910    0.9850       892\n",
            "           6     0.9916    0.9833    0.9874       958\n",
            "           7     0.9931    0.9776    0.9853      1028\n",
            "           8     0.9896    0.9795    0.9845       974\n",
            "           9     0.9697    0.9822    0.9759      1009\n",
            "\n",
            "    accuracy                         0.9866     10000\n",
            "   macro avg     0.9866    0.9865    0.9865     10000\n",
            "weighted avg     0.9867    0.9866    0.9866     10000\n",
            "\n",
            "\n",
            "Testing under FGSM attack:\n",
            "\n",
            "Classification Report:\n",
            "\n",
            "              precision    recall  f1-score   support\n",
            "\n",
            "           0     0.0000    0.0000    0.0000       980\n",
            "           1     0.0229    0.0070    0.0108      1135\n",
            "           2     0.0545    0.1066    0.0721      1032\n",
            "           3     0.0358    0.0802    0.0495      1010\n",
            "           4     0.0395    0.0418    0.0406       982\n",
            "           5     0.0158    0.0258    0.0196       892\n",
            "           6     0.0677    0.0177    0.0281       958\n",
            "           7     0.0078    0.0029    0.0042      1028\n",
            "           8     0.0041    0.0031    0.0035       974\n",
            "           9     0.0000    0.0000    0.0000      1009\n",
            "\n",
            "    accuracy                         0.0286     10000\n",
            "   macro avg     0.0248    0.0285    0.0228     10000\n",
            "weighted avg     0.0248    0.0286    0.0229     10000\n",
            "\n",
            "\n",
            "Testing under PGD attack:\n",
            "\n",
            "Classification Report:\n",
            "\n",
            "              precision    recall  f1-score   support\n",
            "\n",
            "           0     0.0000    0.0000    0.0000     980.0\n",
            "           1     0.0000    0.0000    0.0000    1135.0\n",
            "           2     0.0000    0.0000    0.0000    1032.0\n",
            "           3     0.0000    0.0000    0.0000    1010.0\n",
            "           4     0.0000    0.0000    0.0000     982.0\n",
            "           5     0.0000    0.0000    0.0000     892.0\n",
            "           6     0.0000    0.0000    0.0000     958.0\n",
            "           7     0.0000    0.0000    0.0000    1028.0\n",
            "           8     0.0000    0.0000    0.0000     974.0\n",
            "           9     0.0000    0.0000    0.0000    1009.0\n",
            "\n",
            "    accuracy                         0.0000   10000.0\n",
            "   macro avg     0.0000    0.0000    0.0000   10000.0\n",
            "weighted avg     0.0000    0.0000    0.0000   10000.0\n",
            "\n"
          ]
        },
        {
          "data": {
            "text/plain": [
              "0.0"
            ]
          },
          "execution_count": 23,
          "metadata": {},
          "output_type": "execute_result"
        }
      ],
      "source": [
        "# (1) Train normally\n",
        "\n",
        "model = SimpleCNN().to(device)\n",
        "optimizer = optim.Adam(model.parameters(), lr=0.001)\n",
        "print(\"\\nTraining normally...\")\n",
        "for epoch in range(1, 3):\n",
        "    train(model, device, trainloader, optimizer, epoch)\n",
        "print(\"\\nTesting on clean data:\")\n",
        "test(model, device, testloader, report=True)\n",
        "print(\"\\nTesting under FGSM attack:\")\n",
        "test(model, device, testloader, adversarial=True, attack_method=\"fgsm\", report=True)\n",
        "print(\"\\nTesting under PGD attack:\")\n",
        "test(model, device, testloader, adversarial=True, attack_method=\"pgd\", report=True)"
      ]
    },
    {
      "cell_type": "code",
      "execution_count": 24,
      "metadata": {
        "colab": {
          "base_uri": "https://localhost:8080/"
        },
        "id": "73hruYwJsXe3",
        "outputId": "8b099270-023a-4c66-bcfe-0ed22671988e"
      },
      "outputs": [
        {
          "name": "stdout",
          "output_type": "stream",
          "text": [
            "\n",
            "Starting adversarial training (FGSM)...\n",
            "\n",
            "Testing adversarially trained model (FGSM) on clean data:\n",
            "\n",
            "Classification Report:\n",
            "\n",
            "              precision    recall  f1-score   support\n",
            "\n",
            "           0     0.9933    0.9031    0.9460       980\n",
            "           1     0.9308    0.9956    0.9621      1135\n",
            "           2     0.9526    0.9729    0.9626      1032\n",
            "           3     0.9794    0.9396    0.9591      1010\n",
            "           4     0.9795    0.9236    0.9507       982\n",
            "           5     0.9929    0.9350    0.9630       892\n",
            "           6     0.8837    0.9916    0.9346       958\n",
            "           7     0.9766    0.8512    0.9096      1028\n",
            "           8     0.9681    0.9343    0.9509       974\n",
            "           9     0.8218    0.9732    0.8911      1009\n",
            "\n",
            "    accuracy                         0.9426     10000\n",
            "   macro avg     0.9478    0.9420    0.9430     10000\n",
            "weighted avg     0.9472    0.9426    0.9429     10000\n",
            "\n",
            "\n",
            "Testing adversarially trained model (FGSM) under FGSM attack:\n",
            "\n",
            "Classification Report:\n",
            "\n",
            "              precision    recall  f1-score   support\n",
            "\n",
            "           0     0.9915    0.9490    0.9698       980\n",
            "           1     0.9664    0.9877    0.9769      1135\n",
            "           2     0.9411    0.9758    0.9581      1032\n",
            "           3     0.9179    0.9743    0.9452      1010\n",
            "           4     0.9933    0.9043    0.9467       982\n",
            "           5     0.9871    0.8565    0.9172       892\n",
            "           6     0.9011    0.9896    0.9433       958\n",
            "           7     0.9906    0.9212    0.9546      1028\n",
            "           8     0.9304    0.9743    0.9519       974\n",
            "           9     0.9229    0.9732    0.9474      1009\n",
            "\n",
            "    accuracy                         0.9520     10000\n",
            "   macro avg     0.9542    0.9506    0.9511     10000\n",
            "weighted avg     0.9542    0.9520    0.9518     10000\n",
            "\n",
            "\n",
            "Testing adversarially trained model (FGSM) under PGD attack:\n",
            "\n",
            "Classification Report:\n",
            "\n",
            "              precision    recall  f1-score   support\n",
            "\n",
            "           0     0.0323    0.0010    0.0020       980\n",
            "           1     0.0000    0.0000    0.0000      1135\n",
            "           2     0.0283    0.0320    0.0300      1032\n",
            "           3     0.0000    0.0000    0.0000      1010\n",
            "           4     0.0000    0.0000    0.0000       982\n",
            "           5     0.0000    0.0000    0.0000       892\n",
            "           6     0.0442    0.0553    0.0491       958\n",
            "           7     0.0000    0.0000    0.0000      1028\n",
            "           8     0.0000    0.0000    0.0000       974\n",
            "           9     0.0000    0.0000    0.0000      1009\n",
            "\n",
            "    accuracy                         0.0087     10000\n",
            "   macro avg     0.0105    0.0088    0.0081     10000\n",
            "weighted avg     0.0103    0.0087    0.0080     10000\n",
            "\n"
          ]
        },
        {
          "data": {
            "text/plain": [
              "0.87"
            ]
          },
          "execution_count": 24,
          "metadata": {},
          "output_type": "execute_result"
        }
      ],
      "source": [
        "# (2) FGSM\n",
        "\n",
        "model_adv_fgsm = SimpleCNN().to(device)\n",
        "optimizer_adv_fgsm = optim.Adam(model_adv_fgsm.parameters(), lr=0.001)\n",
        "print(\"\\nStarting adversarial training (FGSM)...\")\n",
        "for epoch in range(1, 3):\n",
        "    train(model_adv_fgsm, device, trainloader, optimizer_adv_fgsm, epoch, adversarial=True, attack_method=\"fgsm\")\n",
        "print(\"\\nTesting adversarially trained model (FGSM) on clean data:\")\n",
        "test(model_adv_fgsm, device, testloader, report=True)\n",
        "print(\"\\nTesting adversarially trained model (FGSM) under FGSM attack:\")\n",
        "test(model_adv_fgsm, device, testloader, adversarial=True, attack_method=\"fgsm\", report=True)\n",
        "print(\"\\nTesting adversarially trained model (FGSM) under PGD attack:\")\n",
        "test(model_adv_fgsm, device, testloader, adversarial=True, attack_method=\"pgd\", report=True)"
      ]
    },
    {
      "cell_type": "code",
      "execution_count": null,
      "metadata": {
        "id": "Iul-APS0sfUl"
      },
      "outputs": [],
      "source": [
        "# (3) PGD\n",
        "\n",
        "model_adv_pgd = SimpleCNN().to(device)\n",
        "optimizer_adv_pgd = optim.Adam(model_adv_pgd.parameters(), lr=0.001)\n",
        "print(\"\\nStarting adversarial training (PGD)...\")\n",
        "for epoch in range(1, 3):\n",
        "    train(model_adv_pgd, device, trainloader, optimizer_adv_pgd, epoch, adversarial=True, attack_method=\"pgd\")\n",
        "print(\"\\nTesting adversarially trained model (PGD) on clean data:\")\n",
        "test(model_adv_pgd, device, testloader, report=True)\n",
        "print(\"\\nTesting adversarially trained model (PGD) under FGSM attack:\")\n",
        "test(model_adv_pgd, device, testloader, adversarial=True, attack_method=\"fgsm\", report=True)\n",
        "print(\"\\nTesting adversarially trained model (PGD) under PGD attack:\")\n",
        "test(model_adv_pgd, device, testloader, adversarial=True, attack_method=\"pgd\", report=True)"
      ]
    },
    {
      "cell_type": "code",
      "execution_count": 26,
      "metadata": {
        "colab": {
          "base_uri": "https://localhost:8080/",
          "height": 609
        },
        "id": "sK0QQ-z5yk8K",
        "outputId": "0ed48a3d-abfd-486d-f695-99fa87497069"
      },
      "outputs": [
        {
          "data": {
            "image/png": "[encoded data removed]",
            "text/plain": [
              "<Figure size 900x600 with 6 Axes>"
            ]
          },
          "metadata": {},
          "output_type": "display_data"
        }
      ],
      "source": [
        "\n",
        "# ─── grab one batch and make attacks ─────────────────────────────────────────\n",
        "\n",
        "device = torch.device(\"cuda\" if torch.cuda.is_available() else \"cpu\")\n",
        "model = model_adv_fgsm.to(device).eval()    # use your trained model here\n",
        "\n",
        "# get a single batch\n",
        "data, target = next(iter(testloader))\n",
        "data, target = data.to(device), target.to(device)\n",
        "data.requires_grad = True\n",
        "\n",
        "# FGSM\n",
        "output = model(data)\n",
        "loss   = F.cross_entropy(output, target)\n",
        "model.zero_grad()\n",
        "loss.backward()\n",
        "x_fgsm = fgsm_attack(data, epsilon=0.3, data_grad=data.grad.data)\n",
        "\n",
        "# PGD\n",
        "x_pgd = pgd_attack(model, data, target, epsilon=0.3, alpha=0.01, iters=40)\n",
        "\n",
        "# ─── prepare numpy images ──────────────────────────────────────────────────\n",
        "\n",
        "idx       = 0\n",
        "orig_np   = data[idx].cpu().squeeze().detach().numpy()\n",
        "fgsm_np   = x_fgsm[idx].cpu().squeeze().detach().numpy()\n",
        "pgd_np    = x_pgd[idx].cpu().squeeze().detach().numpy()\n",
        "diff_fgsm = fgsm_np - orig_np\n",
        "diff_pgd  = pgd_np  - orig_np\n",
        "\n",
        "# recompute preds for titles\n",
        "with torch.no_grad():\n",
        "    pred_fgsm = model(x_fgsm).argmax(dim=1)[idx].item()\n",
        "    pred_pgd  = model(x_pgd ).argmax(dim=1)[idx].item()\n",
        "\n",
        "# ─── plot 2×3 grid ─────────────────────────────────────────────────────────\n",
        "\n",
        "fig, axes = plt.subplots(2, 3, figsize=(9, 6))\n",
        "\n",
        "# row 0: FGSM\n",
        "axes[0, 0].imshow(orig_np,   cmap=\"gray\")\n",
        "axes[0, 0].set_title(f\"Orig (y={target[idx].item()})\")\n",
        "axes[0, 1].imshow(fgsm_np,   cmap=\"gray\")\n",
        "axes[0, 1].set_title(f\"FGSM Adv (ŷ={pred_fgsm})\")\n",
        "axes[0, 2].imshow(diff_fgsm, cmap=\"seismic\", vmin=-diff_fgsm.max(), vmax=diff_fgsm.max())\n",
        "axes[0, 2].set_title(\"FGSM Perturb\")\n",
        "\n",
        "# row 1: PGD\n",
        "axes[1, 0].imshow(orig_np,   cmap=\"gray\")\n",
        "axes[1, 0].set_title(f\"Orig (y={target[idx].item()})\")\n",
        "axes[1, 1].imshow(pgd_np,    cmap=\"gray\")\n",
        "axes[1, 1].set_title(f\"PGD Adv  (ŷ={pred_pgd})\")\n",
        "axes[1, 2].imshow(diff_pgd,  cmap=\"seismic\", vmin=-diff_pgd.max(), vmax=diff_pgd.max())\n",
        "axes[1, 2].set_title(\"PGD Perturb\")\n",
        "\n",
        "for ax in axes.flatten():\n",
        "    ax.axis(\"off\")\n",
        "\n",
        "plt.tight_layout()\n",
        "plt.show()\n"
      ]
    },
    {
      "cell_type": "code",
      "execution_count": 29,
      "metadata": {
        "colab": {
          "base_uri": "https://localhost:8080/"
        },
        "id": "o-HHZLtScWJB",
        "outputId": "67f3febd-c5a4-477c-fdf7-5f0d940cd5af"
      },
      "outputs": [
        {
          "name": "stdout",
          "output_type": "stream",
          "text": [
            "\n",
            "Model FLOPs and Parameters:\n",
            "==========================================================================================\n",
            "Layer (type:depth-idx)                   Output Shape              Param #\n",
            "==========================================================================================\n",
            "SimpleCNN                                [1, 10]                   --\n",
            "├─Conv2d: 1-1                            [1, 32, 26, 26]           320\n",
            "├─Conv2d: 1-2                            [1, 64, 24, 24]           18,496\n",
            "├─MaxPool2d: 1-3                         [1, 64, 12, 12]           --\n",
            "├─Linear: 1-4                            [1, 128]                  1,179,776\n",
            "├─Linear: 1-5                            [1, 10]                   1,290\n",
            "==========================================================================================\n",
            "Total params: 1,199,882\n",
            "Trainable params: 1,199,882\n",
            "Non-trainable params: 0\n",
            "Total mult-adds (Units.MEGABYTES): 12.05\n",
            "==========================================================================================\n",
            "Input size (MB): 0.00\n",
            "Forward/backward pass size (MB): 0.47\n",
            "Params size (MB): 4.80\n",
            "Estimated Total Size (MB): 5.27\n",
            "==========================================================================================\n"
          ]
        }
      ],
      "source": [
        "# Compute and Print Model FLOPs and Parameters\n",
        "print(\"\\nModel FLOPs and Parameters:\")\n",
        "print(torchinfo.summary(model_adv, input_size=(1, 1, 28, 28)))"
      ]
    },
    {
      "cell_type": "code",
      "execution_count": 30,
      "metadata": {
        "colab": {
          "base_uri": "https://localhost:8080/"
        },
        "id": "fyHt572ncV8U",
        "outputId": "42e4238a-3bd6-455f-a255-88676fcd33a0"
      },
      "outputs": [
        {
          "name": "stderr",
          "output_type": "stream",
          "text": [
            "/usr/local/lib/python3.11/dist-packages/torch/autograd/profiler.py:267: UserWarning: CUDA is not available, disabling CUDA profiling\n",
            "  warn(\"CUDA is not available, disabling CUDA profiling\")\n"
          ]
        },
        {
          "name": "stdout",
          "output_type": "stream",
          "text": [
            "Normal training step FLOPs ≈ 1,837,350,912\n",
            "FGSM training step   FLOPs ≈ 3,674,802,176\n",
            "PGD training step    FLOPs ≈ 75,337,408,512\n"
          ]
        }
      ],
      "source": [
        "from torch.profiler import profile, ProfilerActivity, record_function\n",
        "\n",
        "def profile_step(model,\n",
        "                 optimizer,\n",
        "                 attack: str = None,\n",
        "                 epsilon: float = 0.3,\n",
        "                 alpha: float = 0.01,\n",
        "                 pgd_iters: int = 40):\n",
        "    \"\"\"\n",
        "    attack: None | \"fgsm\" | \"pgd\"\n",
        "    \"\"\"\n",
        "    # grab one batch\n",
        "    data, target = next(iter(trainloader))\n",
        "    data, target = data.to(device), target.to(device)\n",
        "    optimizer.zero_grad()\n",
        "\n",
        "    with profile(\n",
        "        activities=[ProfilerActivity.CPU, ProfilerActivity.CUDA],\n",
        "        record_shapes=True,\n",
        "        with_flops=True\n",
        "    ) as prof:\n",
        "\n",
        "        # 1) apply adversarial perturbation if requested\n",
        "        if attack == \"fgsm\":\n",
        "            with record_function(\"FGSM_Attack\"):\n",
        "                data.requires_grad_(True)\n",
        "                out = model(data)\n",
        "                loss = criterion(out, target)\n",
        "                loss.backward()\n",
        "                grad = data.grad\n",
        "                data = fgsm_attack(data, epsilon, grad)\n",
        "\n",
        "        elif attack == \"pgd\":\n",
        "            with record_function(\"PGD_Attack\"):\n",
        "                # pgd_attack does its own forward/backward loop internally\n",
        "                data = pgd_attack(model, data, target,\n",
        "                                  epsilon=epsilon,\n",
        "                                  alpha=alpha,\n",
        "                                  iters=pgd_iters)\n",
        "\n",
        "        # 2) the usual update step\n",
        "        with record_function(\"Update\"):\n",
        "            out2 = model(data)\n",
        "            loss2 = criterion(out2, target)\n",
        "            loss2.backward()\n",
        "            optimizer.step()\n",
        "\n",
        "    # sum up FLOPs over all profiled events\n",
        "    total_flops = sum(evt.flops for evt in prof.key_averages())\n",
        "    return total_flops\n",
        "\n",
        "# ─── run all three ────────────────────────────────────────────────────────────\n",
        "flops_norm = profile_step(model_norm, opt_norm, attack=None)\n",
        "print(f\"Normal training step FLOPs ≈ {flops_norm:,}\")\n",
        "\n",
        "flops_fgsm = profile_step(model_adv, opt_adv, attack=\"fgsm\", epsilon=0.3)\n",
        "print(f\"FGSM training step   FLOPs ≈ {flops_fgsm:,}\")\n",
        "\n",
        "flops_pgd  = profile_step(model_adv, opt_adv,\n",
        "                          attack=\"pgd\",\n",
        "                          epsilon=0.3,\n",
        "                          alpha=0.01,\n",
        "                          pgd_iters=40)\n",
        "print(f\"PGD training step    FLOPs ≈ {flops_pgd:,}\")\n"
      ]
    }
  ],
  "metadata": {
    "colab": {
      "provenance": []
    },
    "kernelspec": {
      "display_name": "Python 3",
      "name": "python3"
    },
    "language_info": {
      "codemirror_mode": {
        "name": "ipython",
        "version": 3
      },
      "file_extension": ".py",
      "mimetype": "text/x-python",
      "name": "python",
      "nbconvert_exporter": "python",
      "pygments_lexer": "ipython3",
      "version": "3.9.6"
    }
  },
  "nbformat": 4,
  "nbformat_minor": 0
}
